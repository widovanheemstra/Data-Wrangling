{
 "cells": [
  {
   "cell_type": "markdown",
   "metadata": {},
   "source": [
    "# A practical introduction into data wrangling using Pandas"
   ]
  },
  {
   "cell_type": "markdown",
   "metadata": {},
   "source": [
    "The Pandas package focuses on "
   ]
  },
  {
   "cell_type": "markdown",
   "metadata": {},
   "source": [
    "## Reading and Writing data"
   ]
  },
  {
   "cell_type": "markdown",
   "metadata": {},
   "source": [
    "### Subject overview\n",
    "Series\n",
    "- Selecting elements\n",
    "- Assigning values\n",
    "- Define series from Numpy Array\n",
    "- Filtering\n",
    "- Operations and Mathematical functions\n",
    "- Evaluating values\n",
    "\n",
    "DataFrame\n",
    "- Selecting elements\n",
    "- Assigning values\n",
    "- Deleting a column\n",
    "- Filtering\n",
    "- DF from nested dict\n",
    "- Indexes\n",
    "- Dropping \n",
    "- Operations and Mathematical functions\n",
    "- Sorting and Ranking\n",
    "\n",
    "\n",
    "- [Create an array](#Create-an-array)\n",
    "- [Generate an array](#Generate-an-array)\n",
    "- [Basic operations](#Basic-operations)\n",
    "- [Indexing](#Indexing)\n",
    "- [Slicing](#Slicing)\n"
   ]
  },
  {
   "cell_type": "code",
   "execution_count": 1,
   "metadata": {
    "collapsed": false
   },
   "outputs": [],
   "source": [
    "import pandas as pd"
   ]
  },
  {
   "cell_type": "markdown",
   "metadata": {},
   "source": [
    "<a id=\"section_create\"></a>"
   ]
  }
 ],
 "metadata": {
  "kernelspec": {
   "display_name": "Python 3",
   "language": "python",
   "name": "python3"
  },
  "language_info": {
   "codemirror_mode": {
    "name": "ipython",
    "version": 3
   },
   "file_extension": ".py",
   "mimetype": "text/x-python",
   "name": "python",
   "nbconvert_exporter": "python",
   "pygments_lexer": "ipython3",
   "version": "3.5.2"
  }
 },
 "nbformat": 4,
 "nbformat_minor": 2
}
